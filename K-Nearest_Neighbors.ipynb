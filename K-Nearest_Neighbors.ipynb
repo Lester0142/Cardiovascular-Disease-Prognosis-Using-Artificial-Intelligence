{
 "cells": [
  {
   "cell_type": "code",
   "execution_count": 1,
   "id": "d051729c",
   "metadata": {},
   "outputs": [],
   "source": [
    "# Basic Libraries\n",
    "import numpy as np\n",
    "import pandas as pd\n",
    "import seaborn as sb\n",
    "import matplotlib as mp\n",
    "import matplotlib.pyplot as plt\n",
    "from sklearn.metrics import confusion_matrix, matthews_corrcoef, accuracy_score, mean_squared_error, classification_report\n",
    "from sklearn.model_selection import train_test_split, cross_val_score, GridSearchCV\n",
    "from sklearn.neighbors import KNeighborsClassifier, BallTree, KDTree \n"
   ]
  },
  {
   "cell_type": "code",
   "execution_count": 2,
   "id": "a492d37b",
   "metadata": {},
   "outputs": [],
   "source": [
    "#IMPORT CLEANED DATASET FROM CSV FILE\n",
    "cardio_clean = pd.read_csv('Dataset\\cardio_clean.csv')"
   ]
  },
  {
   "cell_type": "code",
   "execution_count": 3,
   "id": "44ab51c0",
   "metadata": {},
   "outputs": [
    {
     "data": {
      "text/html": [
       "<div>\n",
       "<style scoped>\n",
       "    .dataframe tbody tr th:only-of-type {\n",
       "        vertical-align: middle;\n",
       "    }\n",
       "\n",
       "    .dataframe tbody tr th {\n",
       "        vertical-align: top;\n",
       "    }\n",
       "\n",
       "    .dataframe thead th {\n",
       "        text-align: right;\n",
       "    }\n",
       "</style>\n",
       "<table border=\"1\" class=\"dataframe\">\n",
       "  <thead>\n",
       "    <tr style=\"text-align: right;\">\n",
       "      <th></th>\n",
       "      <th>id</th>\n",
       "      <th>Age</th>\n",
       "      <th>Gender</th>\n",
       "      <th>Height</th>\n",
       "      <th>Weight</th>\n",
       "      <th>BMI</th>\n",
       "      <th>AP_HI</th>\n",
       "      <th>AP_LO</th>\n",
       "      <th>Chol</th>\n",
       "      <th>Gluc</th>\n",
       "      <th>Smoke</th>\n",
       "      <th>Alco</th>\n",
       "      <th>Active</th>\n",
       "      <th>Cardio</th>\n",
       "    </tr>\n",
       "  </thead>\n",
       "  <tbody>\n",
       "    <tr>\n",
       "      <th>0</th>\n",
       "      <td>0</td>\n",
       "      <td>50</td>\n",
       "      <td>M</td>\n",
       "      <td>168</td>\n",
       "      <td>62.0</td>\n",
       "      <td>22.0</td>\n",
       "      <td>110</td>\n",
       "      <td>80</td>\n",
       "      <td>N</td>\n",
       "      <td>N</td>\n",
       "      <td>0</td>\n",
       "      <td>0</td>\n",
       "      <td>1</td>\n",
       "      <td>0</td>\n",
       "    </tr>\n",
       "    <tr>\n",
       "      <th>1</th>\n",
       "      <td>1</td>\n",
       "      <td>55</td>\n",
       "      <td>F</td>\n",
       "      <td>156</td>\n",
       "      <td>85.0</td>\n",
       "      <td>34.9</td>\n",
       "      <td>140</td>\n",
       "      <td>90</td>\n",
       "      <td>H</td>\n",
       "      <td>N</td>\n",
       "      <td>0</td>\n",
       "      <td>0</td>\n",
       "      <td>1</td>\n",
       "      <td>1</td>\n",
       "    </tr>\n",
       "    <tr>\n",
       "      <th>2</th>\n",
       "      <td>2</td>\n",
       "      <td>52</td>\n",
       "      <td>F</td>\n",
       "      <td>165</td>\n",
       "      <td>64.0</td>\n",
       "      <td>23.5</td>\n",
       "      <td>130</td>\n",
       "      <td>70</td>\n",
       "      <td>H</td>\n",
       "      <td>N</td>\n",
       "      <td>0</td>\n",
       "      <td>0</td>\n",
       "      <td>0</td>\n",
       "      <td>1</td>\n",
       "    </tr>\n",
       "    <tr>\n",
       "      <th>3</th>\n",
       "      <td>3</td>\n",
       "      <td>48</td>\n",
       "      <td>M</td>\n",
       "      <td>169</td>\n",
       "      <td>82.0</td>\n",
       "      <td>28.7</td>\n",
       "      <td>150</td>\n",
       "      <td>100</td>\n",
       "      <td>N</td>\n",
       "      <td>N</td>\n",
       "      <td>0</td>\n",
       "      <td>0</td>\n",
       "      <td>1</td>\n",
       "      <td>1</td>\n",
       "    </tr>\n",
       "    <tr>\n",
       "      <th>4</th>\n",
       "      <td>8</td>\n",
       "      <td>60</td>\n",
       "      <td>F</td>\n",
       "      <td>151</td>\n",
       "      <td>67.0</td>\n",
       "      <td>29.4</td>\n",
       "      <td>120</td>\n",
       "      <td>80</td>\n",
       "      <td>B</td>\n",
       "      <td>B</td>\n",
       "      <td>0</td>\n",
       "      <td>0</td>\n",
       "      <td>0</td>\n",
       "      <td>0</td>\n",
       "    </tr>\n",
       "  </tbody>\n",
       "</table>\n",
       "</div>"
      ],
      "text/plain": [
       "   id  Age Gender  Height  Weight   BMI  AP_HI  AP_LO Chol Gluc  Smoke  Alco  \\\n",
       "0   0   50      M     168    62.0  22.0    110     80    N    N      0     0   \n",
       "1   1   55      F     156    85.0  34.9    140     90    H    N      0     0   \n",
       "2   2   52      F     165    64.0  23.5    130     70    H    N      0     0   \n",
       "3   3   48      M     169    82.0  28.7    150    100    N    N      0     0   \n",
       "4   8   60      F     151    67.0  29.4    120     80    B    B      0     0   \n",
       "\n",
       "   Active  Cardio  \n",
       "0       1       0  \n",
       "1       1       1  \n",
       "2       0       1  \n",
       "3       1       1  \n",
       "4       0       0  "
      ]
     },
     "execution_count": 3,
     "metadata": {},
     "output_type": "execute_result"
    }
   ],
   "source": [
    "cardio_clean.head()"
   ]
  },
  {
   "cell_type": "code",
   "execution_count": 4,
   "id": "c2a5b5d7",
   "metadata": {},
   "outputs": [
    {
     "name": "stdout",
     "output_type": "stream",
     "text": [
      "<class 'pandas.core.frame.DataFrame'>\n",
      "RangeIndex: 58880 entries, 0 to 58879\n",
      "Data columns (total 14 columns):\n",
      " #   Column  Non-Null Count  Dtype  \n",
      "---  ------  --------------  -----  \n",
      " 0   id      58880 non-null  int64  \n",
      " 1   Age     58880 non-null  int64  \n",
      " 2   Gender  58880 non-null  object \n",
      " 3   Height  58880 non-null  int64  \n",
      " 4   Weight  58880 non-null  float64\n",
      " 5   BMI     58880 non-null  float64\n",
      " 6   AP_HI   58880 non-null  int64  \n",
      " 7   AP_LO   58880 non-null  int64  \n",
      " 8   Chol    58880 non-null  object \n",
      " 9   Gluc    58880 non-null  object \n",
      " 10  Smoke   58880 non-null  int64  \n",
      " 11  Alco    58880 non-null  int64  \n",
      " 12  Active  58880 non-null  int64  \n",
      " 13  Cardio  58880 non-null  int64  \n",
      "dtypes: float64(2), int64(9), object(3)\n",
      "memory usage: 6.3+ MB\n"
     ]
    }
   ],
   "source": [
    "cardio_clean.info()"
   ]
  },
  {
   "cell_type": "code",
   "execution_count": null,
   "id": "8840e157",
   "metadata": {},
   "outputs": [],
   "source": []
  },
  {
   "cell_type": "markdown",
   "id": "27eb800c",
   "metadata": {},
   "source": [
    "# K-Nearest Neighbors"
   ]
  },
  {
   "cell_type": "code",
   "execution_count": 5,
   "id": "bad706c9",
   "metadata": {},
   "outputs": [
    {
     "data": {
      "text/html": [
       "<div>\n",
       "<style scoped>\n",
       "    .dataframe tbody tr th:only-of-type {\n",
       "        vertical-align: middle;\n",
       "    }\n",
       "\n",
       "    .dataframe tbody tr th {\n",
       "        vertical-align: top;\n",
       "    }\n",
       "\n",
       "    .dataframe thead th {\n",
       "        text-align: right;\n",
       "    }\n",
       "</style>\n",
       "<table border=\"1\" class=\"dataframe\">\n",
       "  <thead>\n",
       "    <tr style=\"text-align: right;\">\n",
       "      <th></th>\n",
       "      <th>id</th>\n",
       "      <th>Age</th>\n",
       "      <th>Gender</th>\n",
       "      <th>Height</th>\n",
       "      <th>Weight</th>\n",
       "      <th>BMI</th>\n",
       "      <th>AP_HI</th>\n",
       "      <th>AP_LO</th>\n",
       "      <th>Chol</th>\n",
       "      <th>Gluc</th>\n",
       "      <th>Smoke</th>\n",
       "      <th>Alco</th>\n",
       "      <th>Active</th>\n",
       "      <th>Cardio</th>\n",
       "    </tr>\n",
       "  </thead>\n",
       "  <tbody>\n",
       "    <tr>\n",
       "      <th>0</th>\n",
       "      <td>0</td>\n",
       "      <td>50</td>\n",
       "      <td>0</td>\n",
       "      <td>168</td>\n",
       "      <td>62.0</td>\n",
       "      <td>22.0</td>\n",
       "      <td>110</td>\n",
       "      <td>80</td>\n",
       "      <td>0</td>\n",
       "      <td>0</td>\n",
       "      <td>0</td>\n",
       "      <td>0</td>\n",
       "      <td>1</td>\n",
       "      <td>0</td>\n",
       "    </tr>\n",
       "    <tr>\n",
       "      <th>1</th>\n",
       "      <td>1</td>\n",
       "      <td>55</td>\n",
       "      <td>1</td>\n",
       "      <td>156</td>\n",
       "      <td>85.0</td>\n",
       "      <td>34.9</td>\n",
       "      <td>140</td>\n",
       "      <td>90</td>\n",
       "      <td>2</td>\n",
       "      <td>0</td>\n",
       "      <td>0</td>\n",
       "      <td>0</td>\n",
       "      <td>1</td>\n",
       "      <td>1</td>\n",
       "    </tr>\n",
       "    <tr>\n",
       "      <th>2</th>\n",
       "      <td>2</td>\n",
       "      <td>52</td>\n",
       "      <td>1</td>\n",
       "      <td>165</td>\n",
       "      <td>64.0</td>\n",
       "      <td>23.5</td>\n",
       "      <td>130</td>\n",
       "      <td>70</td>\n",
       "      <td>2</td>\n",
       "      <td>0</td>\n",
       "      <td>0</td>\n",
       "      <td>0</td>\n",
       "      <td>0</td>\n",
       "      <td>1</td>\n",
       "    </tr>\n",
       "    <tr>\n",
       "      <th>3</th>\n",
       "      <td>3</td>\n",
       "      <td>48</td>\n",
       "      <td>0</td>\n",
       "      <td>169</td>\n",
       "      <td>82.0</td>\n",
       "      <td>28.7</td>\n",
       "      <td>150</td>\n",
       "      <td>100</td>\n",
       "      <td>0</td>\n",
       "      <td>0</td>\n",
       "      <td>0</td>\n",
       "      <td>0</td>\n",
       "      <td>1</td>\n",
       "      <td>1</td>\n",
       "    </tr>\n",
       "    <tr>\n",
       "      <th>4</th>\n",
       "      <td>8</td>\n",
       "      <td>60</td>\n",
       "      <td>1</td>\n",
       "      <td>151</td>\n",
       "      <td>67.0</td>\n",
       "      <td>29.4</td>\n",
       "      <td>120</td>\n",
       "      <td>80</td>\n",
       "      <td>1</td>\n",
       "      <td>1</td>\n",
       "      <td>0</td>\n",
       "      <td>0</td>\n",
       "      <td>0</td>\n",
       "      <td>0</td>\n",
       "    </tr>\n",
       "  </tbody>\n",
       "</table>\n",
       "</div>"
      ],
      "text/plain": [
       "   id  Age  Gender  Height  Weight   BMI  AP_HI  AP_LO  Chol  Gluc  Smoke  \\\n",
       "0   0   50       0     168    62.0  22.0    110     80     0     0      0   \n",
       "1   1   55       1     156    85.0  34.9    140     90     2     0      0   \n",
       "2   2   52       1     165    64.0  23.5    130     70     2     0      0   \n",
       "3   3   48       0     169    82.0  28.7    150    100     0     0      0   \n",
       "4   8   60       1     151    67.0  29.4    120     80     1     1      0   \n",
       "\n",
       "   Alco  Active  Cardio  \n",
       "0     0       1       0  \n",
       "1     0       1       1  \n",
       "2     0       0       1  \n",
       "3     0       1       1  \n",
       "4     0       0       0  "
      ]
     },
     "execution_count": 5,
     "metadata": {},
     "output_type": "execute_result"
    }
   ],
   "source": [
    "#change categorical-level to numeric-level\n",
    "\n",
    "cardio_clean['Chol']=cardio_clean['Chol'].replace(['N','B','H'],[0,1,2]) \n",
    "cardio_clean['Gluc']=cardio_clean['Gluc'].replace(['N','B','H'],[0,1,2])\n",
    "cardio_clean['Gender']=cardio_clean['Gender'].replace(['M','F'],[0,1])\n",
    "cardio_clean.head()"
   ]
  },
  {
   "cell_type": "code",
   "execution_count": 6,
   "id": "b6b8924d",
   "metadata": {},
   "outputs": [
    {
     "data": {
      "text/html": [
       "<div>\n",
       "<style scoped>\n",
       "    .dataframe tbody tr th:only-of-type {\n",
       "        vertical-align: middle;\n",
       "    }\n",
       "\n",
       "    .dataframe tbody tr th {\n",
       "        vertical-align: top;\n",
       "    }\n",
       "\n",
       "    .dataframe thead th {\n",
       "        text-align: right;\n",
       "    }\n",
       "</style>\n",
       "<table border=\"1\" class=\"dataframe\">\n",
       "  <thead>\n",
       "    <tr style=\"text-align: right;\">\n",
       "      <th></th>\n",
       "      <th>Age</th>\n",
       "      <th>Gender</th>\n",
       "      <th>Height</th>\n",
       "      <th>Weight</th>\n",
       "      <th>BMI</th>\n",
       "      <th>AP_HI</th>\n",
       "      <th>AP_LO</th>\n",
       "      <th>Chol</th>\n",
       "      <th>Gluc</th>\n",
       "      <th>Smoke</th>\n",
       "      <th>Alco</th>\n",
       "      <th>Active</th>\n",
       "    </tr>\n",
       "  </thead>\n",
       "  <tbody>\n",
       "    <tr>\n",
       "      <th>0</th>\n",
       "      <td>50</td>\n",
       "      <td>0</td>\n",
       "      <td>168</td>\n",
       "      <td>62.0</td>\n",
       "      <td>22.0</td>\n",
       "      <td>110</td>\n",
       "      <td>80</td>\n",
       "      <td>0</td>\n",
       "      <td>0</td>\n",
       "      <td>0</td>\n",
       "      <td>0</td>\n",
       "      <td>1</td>\n",
       "    </tr>\n",
       "    <tr>\n",
       "      <th>1</th>\n",
       "      <td>55</td>\n",
       "      <td>1</td>\n",
       "      <td>156</td>\n",
       "      <td>85.0</td>\n",
       "      <td>34.9</td>\n",
       "      <td>140</td>\n",
       "      <td>90</td>\n",
       "      <td>2</td>\n",
       "      <td>0</td>\n",
       "      <td>0</td>\n",
       "      <td>0</td>\n",
       "      <td>1</td>\n",
       "    </tr>\n",
       "    <tr>\n",
       "      <th>2</th>\n",
       "      <td>52</td>\n",
       "      <td>1</td>\n",
       "      <td>165</td>\n",
       "      <td>64.0</td>\n",
       "      <td>23.5</td>\n",
       "      <td>130</td>\n",
       "      <td>70</td>\n",
       "      <td>2</td>\n",
       "      <td>0</td>\n",
       "      <td>0</td>\n",
       "      <td>0</td>\n",
       "      <td>0</td>\n",
       "    </tr>\n",
       "    <tr>\n",
       "      <th>3</th>\n",
       "      <td>48</td>\n",
       "      <td>0</td>\n",
       "      <td>169</td>\n",
       "      <td>82.0</td>\n",
       "      <td>28.7</td>\n",
       "      <td>150</td>\n",
       "      <td>100</td>\n",
       "      <td>0</td>\n",
       "      <td>0</td>\n",
       "      <td>0</td>\n",
       "      <td>0</td>\n",
       "      <td>1</td>\n",
       "    </tr>\n",
       "    <tr>\n",
       "      <th>4</th>\n",
       "      <td>60</td>\n",
       "      <td>1</td>\n",
       "      <td>151</td>\n",
       "      <td>67.0</td>\n",
       "      <td>29.4</td>\n",
       "      <td>120</td>\n",
       "      <td>80</td>\n",
       "      <td>1</td>\n",
       "      <td>1</td>\n",
       "      <td>0</td>\n",
       "      <td>0</td>\n",
       "      <td>0</td>\n",
       "    </tr>\n",
       "  </tbody>\n",
       "</table>\n",
       "</div>"
      ],
      "text/plain": [
       "   Age  Gender  Height  Weight   BMI  AP_HI  AP_LO  Chol  Gluc  Smoke  Alco  \\\n",
       "0   50       0     168    62.0  22.0    110     80     0     0      0     0   \n",
       "1   55       1     156    85.0  34.9    140     90     2     0      0     0   \n",
       "2   52       1     165    64.0  23.5    130     70     2     0      0     0   \n",
       "3   48       0     169    82.0  28.7    150    100     0     0      0     0   \n",
       "4   60       1     151    67.0  29.4    120     80     1     1      0     0   \n",
       "\n",
       "   Active  \n",
       "0       1  \n",
       "1       1  \n",
       "2       0  \n",
       "3       1  \n",
       "4       0  "
      ]
     },
     "execution_count": 6,
     "metadata": {},
     "output_type": "execute_result"
    }
   ],
   "source": [
    "# Separate the predictors to X and Response to y\n",
    "y =cardio_clean['Cardio']\n",
    "X =cardio_clean.drop(['Cardio'],axis=1)\n",
    "X =X.drop(['id'],axis=1)\n",
    "X.head()"
   ]
  },
  {
   "cell_type": "code",
   "execution_count": 7,
   "id": "0eb79d57",
   "metadata": {},
   "outputs": [],
   "source": [
    "# Split the Dataset into Train and Test\n",
    "X_train, X_test, y_train, y_test = train_test_split(X, y, test_size = 0.25, random_state = 42)"
   ]
  },
  {
   "cell_type": "code",
   "execution_count": 8,
   "id": "99976c48",
   "metadata": {},
   "outputs": [
    {
     "name": "stdout",
     "output_type": "stream",
     "text": [
      "train Classification report:\n",
      "               precision    recall  f1-score   support\n",
      "\n",
      "           0       0.77      0.80      0.78     22397\n",
      "           1       0.79      0.75      0.77     21763\n",
      "\n",
      "    accuracy                           0.78     44160\n",
      "   macro avg       0.78      0.78      0.78     44160\n",
      "weighted avg       0.78      0.78      0.78     44160\n",
      "\n",
      "Matthews corrcoef  (MCC) \t: 0.5531089019800416\n",
      "train accuracy: 0.7764945652173914\n",
      "\n",
      "test Classification report:\n",
      "               precision    recall  f1-score   support\n",
      "\n",
      "           0       0.68      0.70      0.69      7482\n",
      "           1       0.68      0.66      0.67      7238\n",
      "\n",
      "    accuracy                           0.68     14720\n",
      "   macro avg       0.68      0.68      0.68     14720\n",
      "weighted avg       0.68      0.68      0.68     14720\n",
      "\n",
      "Matthews corrcoef  (MCC) \t: 0.3638097501037785\n",
      "test accuracy : 0.6820652173913043\n",
      "\n"
     ]
    },
    {
     "data": {
      "text/plain": [
       "<AxesSubplot:>"
      ]
     },
     "execution_count": 8,
     "metadata": {},
     "output_type": "execute_result"
    },
    {
     "data": {
      "image/png": "[encoded data removed]",
      "text/plain": [
       "<Figure size 1440x576 with 4 Axes>"
      ]
     },
     "metadata": {
      "needs_background": "light"
     },
     "output_type": "display_data"
    }
   ],
   "source": [
    "# KNN using Train Data\n",
    "knn = KNeighborsClassifier(n_neighbors = 5 )\n",
    "knn.fit(X_train, y_train)\n",
    "\n",
    "# Predict Response corresponding to Predictors\n",
    "y_train_pred = knn.predict(X_train)\n",
    "y_test_pred = knn.predict(X_test)\n",
    "\n",
    "# Training set performance\n",
    "knn_train_mcc = matthews_corrcoef(y_train, y_train_pred) # Calculate MCC\n",
    "knn_test_mcc = matthews_corrcoef(y_test, y_test_pred) # Calculate MCC\n",
    "knn_train_as = accuracy_score(y_train,y_train_pred)\n",
    "knn_test_as = accuracy_score(y_test,y_test_pred)\n",
    "\n",
    "# Check the Goodness of Fit (on Train Data)\n",
    "print('train Classification report:\\n',classification_report(y_train,y_train_pred))\n",
    "print(\"Matthews corrcoef  (MCC) \\t:\", knn_train_mcc)\n",
    "print('train accuracy:', knn_train_as)\n",
    "print()\n",
    "\n",
    "# Check the Goodness of Fit (on Test Data)\n",
    "print('test Classification report:\\n',classification_report(y_test,y_test_pred))\n",
    "print(\"Matthews corrcoef  (MCC) \\t:\", knn_test_mcc)\n",
    "print('test accuracy :', knn_test_as)\n",
    "print()\n",
    "\n",
    "# Plot the Confusion Matrix for Train and Test\n",
    "f, axes = plt.subplots(1, 2, figsize=(20, 8))\n",
    "sb.heatmap(confusion_matrix(y_train, y_train_pred),\n",
    "           annot = True, fmt=\".0f\", annot_kws={\"size\": 18}, ax = axes[0])\n",
    "sb.heatmap(confusion_matrix(y_test, y_test_pred), \n",
    "           annot = True, fmt=\".0f\", annot_kws={\"size\": 18}, ax = axes[1])"
   ]
  },
  {
   "cell_type": "code",
   "execution_count": 9,
   "id": "f9daa09c",
   "metadata": {},
   "outputs": [],
   "source": [
    "X_train, X_vali, y_train, y_vali = train_test_split(X_train, y_train, test_size = 0.2, random_state = 42)"
   ]
  },
  {
   "cell_type": "markdown",
   "id": "cbc7543a",
   "metadata": {},
   "source": [
    "### Hyperparameter tuning"
   ]
  },
  {
   "cell_type": "code",
   "execution_count": 10,
   "id": "fb072915",
   "metadata": {},
   "outputs": [],
   "source": [
    "#hyperparameter optimization for k values\n",
    "error = []\n",
    "\n",
    "for i in range(1,50):\n",
    "    knn = KNeighborsClassifier(n_neighbors = i, n_jobs = -1)\n",
    "    knn.fit(X_train, y_train)\n",
    "    pred_i = knn.predict(X_vali)\n",
    "    error.append(np.mean(pred_i != y_vali))"
   ]
  },
  {
   "cell_type": "code",
   "execution_count": 11,
   "id": "5f2ac1c0",
   "metadata": {},
   "outputs": [
    {
     "data": {
      "text/plain": [
       "Text(0, 0.5, 'Mean Error')"
      ]
     },
     "execution_count": 11,
     "metadata": {},
     "output_type": "execute_result"
    },
    {
     "data": {
      "image/png": "[encoded data removed]",
      "text/plain": [
       "<Figure size 864x576 with 1 Axes>"
      ]
     },
     "metadata": {
      "needs_background": "light"
     },
     "output_type": "display_data"
    }
   ],
   "source": [
    "plt.figure(figsize = (12,8))\n",
    "plt.plot((range(1,50)), error, color = 'red', linestyle = 'dashed', marker = 'o', markerfacecolor = 'blue', markersize = 10)\n",
    "plt.title('Error rate for K value')\n",
    "plt.xlabel('n_neighbors')\n",
    "plt.ylabel('Mean Error')"
   ]
  },
  {
   "cell_type": "code",
   "execution_count": 12,
   "id": "bf8e071c",
   "metadata": {},
   "outputs": [
    {
     "data": {
      "text/plain": [
       "<AxesSubplot:>"
      ]
     },
     "execution_count": 12,
     "metadata": {},
     "output_type": "execute_result"
    },
    {
     "data": {
      "image/png": "[encoded data removed]",
      "text/plain": [
       "<Figure size 432x288 with 1 Axes>"
      ]
     },
     "metadata": {
      "needs_background": "light"
     },
     "output_type": "display_data"
    }
   ],
   "source": [
    "#hyperparameter optimization for k values\n",
    "k_range = range(1, 50)\n",
    "k_scores = []\n",
    "\n",
    "for k in k_range:\n",
    "  knn = KNeighborsClassifier(n_neighbors= k)\n",
    "  scores = cross_val_score(knn, X, y , cv = 5, scoring= 'accuracy')\n",
    "  k_scores.append(scores.mean())\n",
    "\n",
    "sb.lineplot(x = k_range, y = k_scores)"
   ]
  },
  {
   "cell_type": "code",
   "execution_count": 13,
   "id": "6d33bf74",
   "metadata": {},
   "outputs": [
    {
     "name": "stdout",
     "output_type": "stream",
     "text": [
      "Best parameters found:\n",
      " {'weights': 'uniform'}\n",
      "0.710 (+/-0.010) for {'weights': 'uniform'}\n",
      "0.705 (+/-0.011) for {'weights': 'distance'}\n"
     ]
    }
   ],
   "source": [
    "# Weights parameter\n",
    "\n",
    "knn = KNeighborsClassifier(n_neighbors = 40 )\n",
    "parameter_space = {\n",
    "    'weights' : ['uniform', 'distance'],\n",
    "}\n",
    "clf = GridSearchCV(knn, parameter_space, n_jobs=-1, cv=5)\n",
    "clf.fit(X_train, y_train)\n",
    "# Best paramete set\n",
    "print('Best parameters found:\\n', clf.best_params_)\n",
    "\n",
    "# All results\n",
    "means = clf.cv_results_['mean_test_score']\n",
    "stds = clf.cv_results_['std_test_score']\n",
    "for mean, std, params in zip(means, stds, clf.cv_results_['params']):\n",
    "    print(\"%0.3f (+/-%0.03f) for %r\" % (mean, std * 2, params))"
   ]
  },
  {
   "cell_type": "code",
   "execution_count": 14,
   "id": "e7d63bf4",
   "metadata": {},
   "outputs": [
    {
     "name": "stdout",
     "output_type": "stream",
     "text": [
      "Best parameters found:\n",
      " {'algorithm': 'auto'}\n",
      "0.710 (+/-0.010) for {'algorithm': 'auto'}\n",
      "0.709 (+/-0.010) for {'algorithm': 'ball_tree'}\n",
      "0.710 (+/-0.010) for {'algorithm': 'kd_tree'}\n",
      "0.710 (+/-0.011) for {'algorithm': 'brute'}\n"
     ]
    }
   ],
   "source": [
    "# Algorithm parameter\n",
    "\n",
    "knn = KNeighborsClassifier(n_neighbors = 40, weights = 'uniform' )\n",
    "parameter_space = {\n",
    "    'algorithm' : ['auto', 'ball_tree' ,'kd_tree', 'brute'],\n",
    "}\n",
    "clf = GridSearchCV(knn, parameter_space, n_jobs=-1, cv=5)\n",
    "clf.fit(X_train, y_train)\n",
    "# Best paramete set\n",
    "print('Best parameters found:\\n', clf.best_params_)\n",
    "\n",
    "# All results\n",
    "means = clf.cv_results_['mean_test_score']\n",
    "stds = clf.cv_results_['std_test_score']\n",
    "for mean, std, params in zip(means, stds, clf.cv_results_['params']):\n",
    "    print(\"%0.3f (+/-%0.03f) for %r\" % (mean, std * 2, params))"
   ]
  },
  {
   "cell_type": "code",
   "execution_count": 15,
   "id": "ca2b2d3a",
   "metadata": {},
   "outputs": [
    {
     "name": "stdout",
     "output_type": "stream",
     "text": [
      "Best parameters found:\n",
      " {'leaf_size': 10}\n",
      "0.710 (+/-0.011) for {'leaf_size': 5}\n",
      "0.710 (+/-0.010) for {'leaf_size': 10}\n",
      "0.709 (+/-0.011) for {'leaf_size': 20}\n",
      "0.709 (+/-0.010) for {'leaf_size': 30}\n",
      "0.709 (+/-0.010) for {'leaf_size': 40}\n",
      "0.709 (+/-0.010) for {'leaf_size': 50}\n",
      "0.709 (+/-0.010) for {'leaf_size': 100}\n",
      "0.710 (+/-0.010) for {'leaf_size': 200}\n"
     ]
    }
   ],
   "source": [
    "# Leaf_size parameter\n",
    "\n",
    "knn = KNeighborsClassifier(n_neighbors = 40, weights = 'uniform', algorithm = 'ball_tree')\n",
    "parameter_space = {\n",
    "    'leaf_size' : [5, 10, 20, 30, 40, 50, 100, 200],\n",
    "}\n",
    "clf = GridSearchCV(knn, parameter_space, n_jobs=-1, cv=5)\n",
    "clf.fit(X_train, y_train)\n",
    "# Best paramete set\n",
    "print('Best parameters found:\\n', clf.best_params_)\n",
    "\n",
    "# All results\n",
    "means = clf.cv_results_['mean_test_score']\n",
    "stds = clf.cv_results_['std_test_score']\n",
    "for mean, std, params in zip(means, stds, clf.cv_results_['params']):\n",
    "    print(\"%0.3f (+/-%0.03f) for %r\" % (mean, std * 2, params))"
   ]
  },
  {
   "cell_type": "code",
   "execution_count": 16,
   "id": "884e15a6",
   "metadata": {},
   "outputs": [
    {
     "name": "stdout",
     "output_type": "stream",
     "text": [
      "Best parameters found:\n",
      " {'p': 1}\n",
      "0.712 (+/-0.011) for {'p': 1}\n",
      "0.709 (+/-0.010) for {'p': 2}\n"
     ]
    }
   ],
   "source": [
    "# p parameter\n",
    "\n",
    "knn = KNeighborsClassifier(n_neighbors = 40, weights = 'uniform', algorithm = 'ball_tree')\n",
    "parameter_space = {\n",
    "    'p' : [1, 2],\n",
    "}\n",
    "clf = GridSearchCV(knn, parameter_space, n_jobs=-1, cv=5)\n",
    "clf.fit(X_train, y_train)\n",
    "# Best paramete set\n",
    "print('Best parameters found:\\n', clf.best_params_)\n",
    "\n",
    "# All results\n",
    "means = clf.cv_results_['mean_test_score']\n",
    "stds = clf.cv_results_['std_test_score']\n",
    "for mean, std, params in zip(means, stds, clf.cv_results_['params']):\n",
    "    print(\"%0.3f (+/-%0.03f) for %r\" % (mean, std * 2, params))"
   ]
  },
  {
   "cell_type": "code",
   "execution_count": null,
   "id": "6fcdfaf8",
   "metadata": {},
   "outputs": [],
   "source": []
  },
  {
   "cell_type": "code",
   "execution_count": 17,
   "id": "feecd8e5",
   "metadata": {},
   "outputs": [
    {
     "name": "stdout",
     "output_type": "stream",
     "text": [
      "train Classification report:\n",
      "               precision    recall  f1-score   support\n",
      "\n",
      "           0       0.70      0.80      0.75     17913\n",
      "           1       0.76      0.65      0.70     17415\n",
      "\n",
      "    accuracy                           0.73     35328\n",
      "   macro avg       0.73      0.72      0.72     35328\n",
      "weighted avg       0.73      0.73      0.72     35328\n",
      "\n",
      "Matthews corrcoef  (MCC) \t: 0.4552708842996345\n",
      "train accuracy: 0.7256850090579711\n",
      "\n",
      "test Classification report:\n",
      "               precision    recall  f1-score   support\n",
      "\n",
      "           0       0.69      0.79      0.74      7482\n",
      "           1       0.75      0.63      0.69      7238\n",
      "\n",
      "    accuracy                           0.72     14720\n",
      "   macro avg       0.72      0.71      0.71     14720\n",
      "weighted avg       0.72      0.72      0.71     14720\n",
      "\n",
      "Matthews corrcoef  (MCC) \t: 0.43546255135146\n",
      "test accuracy : 0.7160326086956522\n",
      "\n"
     ]
    },
    {
     "data": {
      "text/plain": [
       "<AxesSubplot:>"
      ]
     },
     "execution_count": 17,
     "metadata": {},
     "output_type": "execute_result"
    },
    {
     "data": {
      "image/png": "[encoded data removed]",
      "text/plain": [
       "<Figure size 1440x576 with 4 Axes>"
      ]
     },
     "metadata": {
      "needs_background": "light"
     },
     "output_type": "display_data"
    }
   ],
   "source": [
    "# Final KNN model \n",
    "knn = KNeighborsClassifier(n_neighbors = 40, weights = 'uniform', algorithm = 'ball_tree', p = 1)\n",
    "knn.fit(X_train, y_train)\n",
    "\n",
    "# Predict Response corresponding to Predictors\n",
    "y_train_pred = knn.predict(X_train)\n",
    "y_test_pred = knn.predict(X_test)\n",
    "\n",
    "# Training set performance\n",
    "knn_train_mcc = matthews_corrcoef(y_train, y_train_pred) # Calculate MCC\n",
    "knn_test_mcc = matthews_corrcoef(y_test, y_test_pred) # Calculate MCC\n",
    "knn_train_as = accuracy_score(y_train,y_train_pred)\n",
    "knn_test_as = accuracy_score(y_test,y_test_pred)\n",
    "\n",
    "# Check the Goodness of Fit (on Train Data)\n",
    "print('train Classification report:\\n',classification_report(y_train,y_train_pred))\n",
    "print(\"Matthews corrcoef  (MCC) \\t:\", knn_train_mcc)\n",
    "print('train accuracy:', knn_train_as)\n",
    "print()\n",
    "\n",
    "# Check the Goodness of Fit (on Test Data)\n",
    "print('test Classification report:\\n',classification_report(y_test,y_test_pred))\n",
    "print(\"Matthews corrcoef  (MCC) \\t:\", knn_test_mcc)\n",
    "print('test accuracy :', knn_test_as)\n",
    "print()\n",
    "\n",
    "# Plot the Confusion Matrix for Train and Test\n",
    "f, axes = plt.subplots(1, 2, figsize=(20, 8))\n",
    "sb.heatmap(confusion_matrix(y_train, y_train_pred),\n",
    "           annot = True, fmt=\".0f\", annot_kws={\"size\": 18}, ax = axes[0])\n",
    "sb.heatmap(confusion_matrix(y_test, y_test_pred), \n",
    "           annot = True, fmt=\".0f\", annot_kws={\"size\": 18}, ax = axes[1])"
   ]
  },
  {
   "cell_type": "code",
   "execution_count": null,
   "id": "c0286685",
   "metadata": {},
   "outputs": [],
   "source": []
  }
 ],
 "metadata": {
  "kernelspec": {
   "display_name": "Python 3 (ipykernel)",
   "language": "python",
   "name": "python3"
  },
  "language_info": {
   "codemirror_mode": {
    "name": "ipython",
    "version": 3
   },
   "file_extension": ".py",
   "mimetype": "text/x-python",
   "name": "python",
   "nbconvert_exporter": "python",
   "pygments_lexer": "ipython3",
   "version": "3.9.7"
  }
 },
 "nbformat": 4,
 "nbformat_minor": 5
}
